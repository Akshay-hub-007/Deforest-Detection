{
  "nbformat": 4,
  "nbformat_minor": 0,
  "metadata": {
    "colab": {
      "provenance": [],
      "authorship_tag": "ABX9TyNsF1PQlJH807Mmp7OVNrV6",
      "include_colab_link": true
    },
    "kernelspec": {
      "name": "python3",
      "display_name": "Python 3"
    },
    "language_info": {
      "name": "python"
    }
  },
  "cells": [
    {
      "cell_type": "markdown",
      "metadata": {
        "id": "view-in-github",
        "colab_type": "text"
      },
      "source": [
        "<a href=\"https://colab.research.google.com/github/Akshay-hub-007/Deforest-Detection/blob/main/Deforest.ipynb\" target=\"_parent\"><img src=\"https://colab.research.google.com/assets/colab-badge.svg\" alt=\"Open In Colab\"/></a>"
      ]
    },
    {
      "cell_type": "code",
      "execution_count": null,
      "metadata": {
        "id": "oBSZWo2QrCLt"
      },
      "outputs": [],
      "source": [
        "import pandas as pd\n",
        "import geopandas as gpd\n",
        "import matplotlib.pyplot as plt\n",
        "from shapely.geometry import Point\n",
        "\n",
        "# Load CSV\n",
        "df = pd.read_csv(\"/content/6344ec94bb4449051550.csv\")\n",
        "\n",
        "# Convert to GeoDataFrame\n",
        "geometry = [Point(xy) for xy in zip(df['longitude'], df['latitude'])]\n",
        "gdf = gpd.GeoDataFrame(df, geometry=geometry, crs=\"EPSG:4326\")\n"
      ]
    }
  ]
}